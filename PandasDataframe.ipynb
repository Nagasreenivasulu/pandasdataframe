{
  "nbformat": 4,
  "nbformat_minor": 0,
  "metadata": {
    "colab": {
      "name": "PandasDataframe.ipynb",
      "provenance": [],
      "collapsed_sections": [],
      "authorship_tag": "ABX9TyO6NK42ocOpElzFvh3oz0M9",
      "include_colab_link": true
    },
    "kernelspec": {
      "name": "python3",
      "display_name": "Python 3"
    },
    "language_info": {
      "name": "python"
    }
  },
  "cells": [
    {
      "cell_type": "markdown",
      "metadata": {
        "id": "view-in-github",
        "colab_type": "text"
      },
      "source": [
        "<a href=\"https://colab.research.google.com/github/Nagasreenivasulu/pandasdataframe/blob/main/PandasDataframe.ipynb\" target=\"_parent\"><img src=\"https://colab.research.google.com/assets/colab-badge.svg\" alt=\"Open In Colab\"/></a>"
      ]
    },
    {
      "cell_type": "code",
      "metadata": {
        "id": "HLNJeWrb9mYc"
      },
      "source": [
        "import pandas as pd"
      ],
      "execution_count": 40,
      "outputs": []
    },
    {
      "cell_type": "markdown",
      "metadata": {
        "id": "dXLbtcZ59xK2"
      },
      "source": [
        "**Creating data frame from multiple lists**"
      ]
    },
    {
      "cell_type": "code",
      "metadata": {
        "colab": {
          "base_uri": "https://localhost:8080/",
          "height": 143
        },
        "id": "DRZMkbNe9tSJ",
        "outputId": "cf50c203-546a-4d2b-ac06-ee8ada9f862d"
      },
      "source": [
        "name = ['Naga','Sreenu','Vasu']\n",
        "salary = [48000,60000,70000]\n",
        "df = pd.DataFrame({'Name':name, 'Salary':salary})\n",
        "df.head()"
      ],
      "execution_count": 41,
      "outputs": [
        {
          "output_type": "execute_result",
          "data": {
            "text/html": [
              "<div>\n",
              "<style scoped>\n",
              "    .dataframe tbody tr th:only-of-type {\n",
              "        vertical-align: middle;\n",
              "    }\n",
              "\n",
              "    .dataframe tbody tr th {\n",
              "        vertical-align: top;\n",
              "    }\n",
              "\n",
              "    .dataframe thead th {\n",
              "        text-align: right;\n",
              "    }\n",
              "</style>\n",
              "<table border=\"1\" class=\"dataframe\">\n",
              "  <thead>\n",
              "    <tr style=\"text-align: right;\">\n",
              "      <th></th>\n",
              "      <th>Name</th>\n",
              "      <th>Salary</th>\n",
              "    </tr>\n",
              "  </thead>\n",
              "  <tbody>\n",
              "    <tr>\n",
              "      <th>0</th>\n",
              "      <td>Naga</td>\n",
              "      <td>48000</td>\n",
              "    </tr>\n",
              "    <tr>\n",
              "      <th>1</th>\n",
              "      <td>Sreenu</td>\n",
              "      <td>60000</td>\n",
              "    </tr>\n",
              "    <tr>\n",
              "      <th>2</th>\n",
              "      <td>Vasu</td>\n",
              "      <td>70000</td>\n",
              "    </tr>\n",
              "  </tbody>\n",
              "</table>\n",
              "</div>"
            ],
            "text/plain": [
              "     Name  Salary\n",
              "0    Naga   48000\n",
              "1  Sreenu   60000\n",
              "2    Vasu   70000"
            ]
          },
          "metadata": {
            "tags": []
          },
          "execution_count": 41
        }
      ]
    },
    {
      "cell_type": "markdown",
      "metadata": {
        "id": "wWkVxXO4BOku"
      },
      "source": [
        "**Increasing Salary By 10% in new column using lambda function**"
      ]
    },
    {
      "cell_type": "code",
      "metadata": {
        "colab": {
          "base_uri": "https://localhost:8080/",
          "height": 143
        },
        "id": "pH6sTrUCBVom",
        "outputId": "18036320-a043-44cf-a148-dd21809bae03"
      },
      "source": [
        "df['New_Salary'] = df['Salary'].apply(lambda X: (X+(X*10/100)))\n",
        "df"
      ],
      "execution_count": 43,
      "outputs": [
        {
          "output_type": "execute_result",
          "data": {
            "text/html": [
              "<div>\n",
              "<style scoped>\n",
              "    .dataframe tbody tr th:only-of-type {\n",
              "        vertical-align: middle;\n",
              "    }\n",
              "\n",
              "    .dataframe tbody tr th {\n",
              "        vertical-align: top;\n",
              "    }\n",
              "\n",
              "    .dataframe thead th {\n",
              "        text-align: right;\n",
              "    }\n",
              "</style>\n",
              "<table border=\"1\" class=\"dataframe\">\n",
              "  <thead>\n",
              "    <tr style=\"text-align: right;\">\n",
              "      <th></th>\n",
              "      <th>Name</th>\n",
              "      <th>Salary</th>\n",
              "      <th>New_Salary</th>\n",
              "    </tr>\n",
              "  </thead>\n",
              "  <tbody>\n",
              "    <tr>\n",
              "      <th>0</th>\n",
              "      <td>Naga</td>\n",
              "      <td>48000</td>\n",
              "      <td>52800.0</td>\n",
              "    </tr>\n",
              "    <tr>\n",
              "      <th>1</th>\n",
              "      <td>Sreenu</td>\n",
              "      <td>60000</td>\n",
              "      <td>66000.0</td>\n",
              "    </tr>\n",
              "    <tr>\n",
              "      <th>2</th>\n",
              "      <td>Vasu</td>\n",
              "      <td>70000</td>\n",
              "      <td>77000.0</td>\n",
              "    </tr>\n",
              "  </tbody>\n",
              "</table>\n",
              "</div>"
            ],
            "text/plain": [
              "     Name  Salary  New_Salary\n",
              "0    Naga   48000     52800.0\n",
              "1  Sreenu   60000     66000.0\n",
              "2    Vasu   70000     77000.0"
            ]
          },
          "metadata": {
            "tags": []
          },
          "execution_count": 43
        }
      ]
    },
    {
      "cell_type": "markdown",
      "metadata": {
        "id": "lz6JZ-8MC4CT"
      },
      "source": [
        "**Renaming the column**"
      ]
    },
    {
      "cell_type": "code",
      "metadata": {
        "id": "bBLjY6wkC9Jn"
      },
      "source": [
        "df.rename(columns={'Salary':'Old_Salary'}, inplace=True)"
      ],
      "execution_count": 44,
      "outputs": []
    },
    {
      "cell_type": "code",
      "metadata": {
        "colab": {
          "base_uri": "https://localhost:8080/",
          "height": 143
        },
        "id": "7fc76VTbCspR",
        "outputId": "4ba75ced-e5c7-4945-cae2-948c53b76684"
      },
      "source": [
        "df"
      ],
      "execution_count": 45,
      "outputs": [
        {
          "output_type": "execute_result",
          "data": {
            "text/html": [
              "<div>\n",
              "<style scoped>\n",
              "    .dataframe tbody tr th:only-of-type {\n",
              "        vertical-align: middle;\n",
              "    }\n",
              "\n",
              "    .dataframe tbody tr th {\n",
              "        vertical-align: top;\n",
              "    }\n",
              "\n",
              "    .dataframe thead th {\n",
              "        text-align: right;\n",
              "    }\n",
              "</style>\n",
              "<table border=\"1\" class=\"dataframe\">\n",
              "  <thead>\n",
              "    <tr style=\"text-align: right;\">\n",
              "      <th></th>\n",
              "      <th>Name</th>\n",
              "      <th>Old_Salary</th>\n",
              "      <th>New_Salary</th>\n",
              "    </tr>\n",
              "  </thead>\n",
              "  <tbody>\n",
              "    <tr>\n",
              "      <th>0</th>\n",
              "      <td>Naga</td>\n",
              "      <td>48000</td>\n",
              "      <td>52800.0</td>\n",
              "    </tr>\n",
              "    <tr>\n",
              "      <th>1</th>\n",
              "      <td>Sreenu</td>\n",
              "      <td>60000</td>\n",
              "      <td>66000.0</td>\n",
              "    </tr>\n",
              "    <tr>\n",
              "      <th>2</th>\n",
              "      <td>Vasu</td>\n",
              "      <td>70000</td>\n",
              "      <td>77000.0</td>\n",
              "    </tr>\n",
              "  </tbody>\n",
              "</table>\n",
              "</div>"
            ],
            "text/plain": [
              "     Name  Old_Salary  New_Salary\n",
              "0    Naga       48000     52800.0\n",
              "1  Sreenu       60000     66000.0\n",
              "2    Vasu       70000     77000.0"
            ]
          },
          "metadata": {
            "tags": []
          },
          "execution_count": 45
        }
      ]
    },
    {
      "cell_type": "markdown",
      "metadata": {
        "id": "TLdC1lj-D-Il"
      },
      "source": [
        "**Increasing Salary By 10% in new column using def function**"
      ]
    },
    {
      "cell_type": "code",
      "metadata": {
        "colab": {
          "base_uri": "https://localhost:8080/",
          "height": 143
        },
        "id": "gb4CWL2fD2Q8",
        "outputId": "2a1f0eb6-cb67-4931-fec2-c8be3b0ac789"
      },
      "source": [
        "def increseby10(val):\n",
        "  val += val*10/100\n",
        "  return val\n",
        "df['New_Salary_def_fun'] = df['Old_Salary'].apply(increseby10)\n",
        "df"
      ],
      "execution_count": 46,
      "outputs": [
        {
          "output_type": "execute_result",
          "data": {
            "text/html": [
              "<div>\n",
              "<style scoped>\n",
              "    .dataframe tbody tr th:only-of-type {\n",
              "        vertical-align: middle;\n",
              "    }\n",
              "\n",
              "    .dataframe tbody tr th {\n",
              "        vertical-align: top;\n",
              "    }\n",
              "\n",
              "    .dataframe thead th {\n",
              "        text-align: right;\n",
              "    }\n",
              "</style>\n",
              "<table border=\"1\" class=\"dataframe\">\n",
              "  <thead>\n",
              "    <tr style=\"text-align: right;\">\n",
              "      <th></th>\n",
              "      <th>Name</th>\n",
              "      <th>Old_Salary</th>\n",
              "      <th>New_Salary</th>\n",
              "      <th>New_Salary_def_fun</th>\n",
              "    </tr>\n",
              "  </thead>\n",
              "  <tbody>\n",
              "    <tr>\n",
              "      <th>0</th>\n",
              "      <td>Naga</td>\n",
              "      <td>48000</td>\n",
              "      <td>52800.0</td>\n",
              "      <td>52800.0</td>\n",
              "    </tr>\n",
              "    <tr>\n",
              "      <th>1</th>\n",
              "      <td>Sreenu</td>\n",
              "      <td>60000</td>\n",
              "      <td>66000.0</td>\n",
              "      <td>66000.0</td>\n",
              "    </tr>\n",
              "    <tr>\n",
              "      <th>2</th>\n",
              "      <td>Vasu</td>\n",
              "      <td>70000</td>\n",
              "      <td>77000.0</td>\n",
              "      <td>77000.0</td>\n",
              "    </tr>\n",
              "  </tbody>\n",
              "</table>\n",
              "</div>"
            ],
            "text/plain": [
              "     Name  Old_Salary  New_Salary  New_Salary_def_fun\n",
              "0    Naga       48000     52800.0             52800.0\n",
              "1  Sreenu       60000     66000.0             66000.0\n",
              "2    Vasu       70000     77000.0             77000.0"
            ]
          },
          "metadata": {
            "tags": []
          },
          "execution_count": 46
        }
      ]
    },
    {
      "cell_type": "markdown",
      "metadata": {
        "id": "xL79qtCxEcJU"
      },
      "source": [
        "**Removing column from dataframe**"
      ]
    },
    {
      "cell_type": "code",
      "metadata": {
        "colab": {
          "base_uri": "https://localhost:8080/",
          "height": 143
        },
        "id": "gFp2B5QyEhD1",
        "outputId": "e307ac8e-23e3-47c9-ec60-f2dda899bc3a"
      },
      "source": [
        "del df['New_Salary_def_fun']\n",
        "df"
      ],
      "execution_count": 47,
      "outputs": [
        {
          "output_type": "execute_result",
          "data": {
            "text/html": [
              "<div>\n",
              "<style scoped>\n",
              "    .dataframe tbody tr th:only-of-type {\n",
              "        vertical-align: middle;\n",
              "    }\n",
              "\n",
              "    .dataframe tbody tr th {\n",
              "        vertical-align: top;\n",
              "    }\n",
              "\n",
              "    .dataframe thead th {\n",
              "        text-align: right;\n",
              "    }\n",
              "</style>\n",
              "<table border=\"1\" class=\"dataframe\">\n",
              "  <thead>\n",
              "    <tr style=\"text-align: right;\">\n",
              "      <th></th>\n",
              "      <th>Name</th>\n",
              "      <th>Old_Salary</th>\n",
              "      <th>New_Salary</th>\n",
              "    </tr>\n",
              "  </thead>\n",
              "  <tbody>\n",
              "    <tr>\n",
              "      <th>0</th>\n",
              "      <td>Naga</td>\n",
              "      <td>48000</td>\n",
              "      <td>52800.0</td>\n",
              "    </tr>\n",
              "    <tr>\n",
              "      <th>1</th>\n",
              "      <td>Sreenu</td>\n",
              "      <td>60000</td>\n",
              "      <td>66000.0</td>\n",
              "    </tr>\n",
              "    <tr>\n",
              "      <th>2</th>\n",
              "      <td>Vasu</td>\n",
              "      <td>70000</td>\n",
              "      <td>77000.0</td>\n",
              "    </tr>\n",
              "  </tbody>\n",
              "</table>\n",
              "</div>"
            ],
            "text/plain": [
              "     Name  Old_Salary  New_Salary\n",
              "0    Naga       48000     52800.0\n",
              "1  Sreenu       60000     66000.0\n",
              "2    Vasu       70000     77000.0"
            ]
          },
          "metadata": {
            "tags": []
          },
          "execution_count": 47
        }
      ]
    },
    {
      "cell_type": "markdown",
      "metadata": {
        "id": "tmfsc-UJFF9x"
      },
      "source": [
        "**Shallow copy of dataframe**"
      ]
    },
    {
      "cell_type": "code",
      "metadata": {
        "colab": {
          "base_uri": "https://localhost:8080/",
          "height": 143
        },
        "id": "y8V0q1Z1FEh9",
        "outputId": "70c05ecb-ce63-4394-9f7e-c8b3884cd1c0"
      },
      "source": [
        "df2 = df\n",
        "df2"
      ],
      "execution_count": 48,
      "outputs": [
        {
          "output_type": "execute_result",
          "data": {
            "text/html": [
              "<div>\n",
              "<style scoped>\n",
              "    .dataframe tbody tr th:only-of-type {\n",
              "        vertical-align: middle;\n",
              "    }\n",
              "\n",
              "    .dataframe tbody tr th {\n",
              "        vertical-align: top;\n",
              "    }\n",
              "\n",
              "    .dataframe thead th {\n",
              "        text-align: right;\n",
              "    }\n",
              "</style>\n",
              "<table border=\"1\" class=\"dataframe\">\n",
              "  <thead>\n",
              "    <tr style=\"text-align: right;\">\n",
              "      <th></th>\n",
              "      <th>Name</th>\n",
              "      <th>Old_Salary</th>\n",
              "      <th>New_Salary</th>\n",
              "    </tr>\n",
              "  </thead>\n",
              "  <tbody>\n",
              "    <tr>\n",
              "      <th>0</th>\n",
              "      <td>Naga</td>\n",
              "      <td>48000</td>\n",
              "      <td>52800.0</td>\n",
              "    </tr>\n",
              "    <tr>\n",
              "      <th>1</th>\n",
              "      <td>Sreenu</td>\n",
              "      <td>60000</td>\n",
              "      <td>66000.0</td>\n",
              "    </tr>\n",
              "    <tr>\n",
              "      <th>2</th>\n",
              "      <td>Vasu</td>\n",
              "      <td>70000</td>\n",
              "      <td>77000.0</td>\n",
              "    </tr>\n",
              "  </tbody>\n",
              "</table>\n",
              "</div>"
            ],
            "text/plain": [
              "     Name  Old_Salary  New_Salary\n",
              "0    Naga       48000     52800.0\n",
              "1  Sreenu       60000     66000.0\n",
              "2    Vasu       70000     77000.0"
            ]
          },
          "metadata": {
            "tags": []
          },
          "execution_count": 48
        }
      ]
    },
    {
      "cell_type": "markdown",
      "metadata": {
        "id": "S0-r6TXwFOay"
      },
      "source": [
        "**Adding new column named experiance in data frame 2**"
      ]
    },
    {
      "cell_type": "code",
      "metadata": {
        "colab": {
          "base_uri": "https://localhost:8080/",
          "height": 143
        },
        "id": "Kc4ht8uAFNDC",
        "outputId": "3bb0014b-f2c0-4897-a965-a1fd73909cc1"
      },
      "source": [
        "experiance = [3, 4, 5]\n",
        "df2['Experiance'] = pd.DataFrame({'Experiance':experiance})\n",
        "df2"
      ],
      "execution_count": 50,
      "outputs": [
        {
          "output_type": "execute_result",
          "data": {
            "text/html": [
              "<div>\n",
              "<style scoped>\n",
              "    .dataframe tbody tr th:only-of-type {\n",
              "        vertical-align: middle;\n",
              "    }\n",
              "\n",
              "    .dataframe tbody tr th {\n",
              "        vertical-align: top;\n",
              "    }\n",
              "\n",
              "    .dataframe thead th {\n",
              "        text-align: right;\n",
              "    }\n",
              "</style>\n",
              "<table border=\"1\" class=\"dataframe\">\n",
              "  <thead>\n",
              "    <tr style=\"text-align: right;\">\n",
              "      <th></th>\n",
              "      <th>Name</th>\n",
              "      <th>Old_Salary</th>\n",
              "      <th>New_Salary</th>\n",
              "      <th>Experiance</th>\n",
              "    </tr>\n",
              "  </thead>\n",
              "  <tbody>\n",
              "    <tr>\n",
              "      <th>0</th>\n",
              "      <td>Naga</td>\n",
              "      <td>48000</td>\n",
              "      <td>52800.0</td>\n",
              "      <td>3</td>\n",
              "    </tr>\n",
              "    <tr>\n",
              "      <th>1</th>\n",
              "      <td>Sreenu</td>\n",
              "      <td>60000</td>\n",
              "      <td>66000.0</td>\n",
              "      <td>4</td>\n",
              "    </tr>\n",
              "    <tr>\n",
              "      <th>2</th>\n",
              "      <td>Vasu</td>\n",
              "      <td>70000</td>\n",
              "      <td>77000.0</td>\n",
              "      <td>5</td>\n",
              "    </tr>\n",
              "  </tbody>\n",
              "</table>\n",
              "</div>"
            ],
            "text/plain": [
              "     Name  Old_Salary  New_Salary  Experiance\n",
              "0    Naga       48000     52800.0           3\n",
              "1  Sreenu       60000     66000.0           4\n",
              "2    Vasu       70000     77000.0           5"
            ]
          },
          "metadata": {
            "tags": []
          },
          "execution_count": 50
        }
      ]
    },
    {
      "cell_type": "markdown",
      "metadata": {
        "id": "xh2GE6YxFqpx"
      },
      "source": [
        "**Checking df**"
      ]
    },
    {
      "cell_type": "code",
      "metadata": {
        "colab": {
          "base_uri": "https://localhost:8080/",
          "height": 143
        },
        "id": "p-S9i_3zFuaW",
        "outputId": "099753a7-b2aa-44d2-9904-2ad3f5b78c82"
      },
      "source": [
        "df"
      ],
      "execution_count": 51,
      "outputs": [
        {
          "output_type": "execute_result",
          "data": {
            "text/html": [
              "<div>\n",
              "<style scoped>\n",
              "    .dataframe tbody tr th:only-of-type {\n",
              "        vertical-align: middle;\n",
              "    }\n",
              "\n",
              "    .dataframe tbody tr th {\n",
              "        vertical-align: top;\n",
              "    }\n",
              "\n",
              "    .dataframe thead th {\n",
              "        text-align: right;\n",
              "    }\n",
              "</style>\n",
              "<table border=\"1\" class=\"dataframe\">\n",
              "  <thead>\n",
              "    <tr style=\"text-align: right;\">\n",
              "      <th></th>\n",
              "      <th>Name</th>\n",
              "      <th>Old_Salary</th>\n",
              "      <th>New_Salary</th>\n",
              "      <th>Experiance</th>\n",
              "    </tr>\n",
              "  </thead>\n",
              "  <tbody>\n",
              "    <tr>\n",
              "      <th>0</th>\n",
              "      <td>Naga</td>\n",
              "      <td>48000</td>\n",
              "      <td>52800.0</td>\n",
              "      <td>3</td>\n",
              "    </tr>\n",
              "    <tr>\n",
              "      <th>1</th>\n",
              "      <td>Sreenu</td>\n",
              "      <td>60000</td>\n",
              "      <td>66000.0</td>\n",
              "      <td>4</td>\n",
              "    </tr>\n",
              "    <tr>\n",
              "      <th>2</th>\n",
              "      <td>Vasu</td>\n",
              "      <td>70000</td>\n",
              "      <td>77000.0</td>\n",
              "      <td>5</td>\n",
              "    </tr>\n",
              "  </tbody>\n",
              "</table>\n",
              "</div>"
            ],
            "text/plain": [
              "     Name  Old_Salary  New_Salary  Experiance\n",
              "0    Naga       48000     52800.0           3\n",
              "1  Sreenu       60000     66000.0           4\n",
              "2    Vasu       70000     77000.0           5"
            ]
          },
          "metadata": {
            "tags": []
          },
          "execution_count": 51
        }
      ]
    },
    {
      "cell_type": "markdown",
      "metadata": {
        "id": "-MDXnrKiFwhe"
      },
      "source": [
        "If we make any changes in df2 then it will reflect in df"
      ]
    },
    {
      "cell_type": "markdown",
      "metadata": {
        "id": "Pkk9IIbNGA2w"
      },
      "source": [
        "**Deep Copy**"
      ]
    },
    {
      "cell_type": "code",
      "metadata": {
        "id": "DLMdqSYzF70K"
      },
      "source": [
        "df3 = df.copy(deep=True)"
      ],
      "execution_count": 52,
      "outputs": []
    },
    {
      "cell_type": "code",
      "metadata": {
        "colab": {
          "base_uri": "https://localhost:8080/",
          "height": 143
        },
        "id": "E39k0UyCGM6v",
        "outputId": "07cf5686-881b-48f6-e090-8bea6fd8dab9"
      },
      "source": [
        "df3"
      ],
      "execution_count": 53,
      "outputs": [
        {
          "output_type": "execute_result",
          "data": {
            "text/html": [
              "<div>\n",
              "<style scoped>\n",
              "    .dataframe tbody tr th:only-of-type {\n",
              "        vertical-align: middle;\n",
              "    }\n",
              "\n",
              "    .dataframe tbody tr th {\n",
              "        vertical-align: top;\n",
              "    }\n",
              "\n",
              "    .dataframe thead th {\n",
              "        text-align: right;\n",
              "    }\n",
              "</style>\n",
              "<table border=\"1\" class=\"dataframe\">\n",
              "  <thead>\n",
              "    <tr style=\"text-align: right;\">\n",
              "      <th></th>\n",
              "      <th>Name</th>\n",
              "      <th>Old_Salary</th>\n",
              "      <th>New_Salary</th>\n",
              "      <th>Experiance</th>\n",
              "    </tr>\n",
              "  </thead>\n",
              "  <tbody>\n",
              "    <tr>\n",
              "      <th>0</th>\n",
              "      <td>Naga</td>\n",
              "      <td>48000</td>\n",
              "      <td>52800.0</td>\n",
              "      <td>3</td>\n",
              "    </tr>\n",
              "    <tr>\n",
              "      <th>1</th>\n",
              "      <td>Sreenu</td>\n",
              "      <td>60000</td>\n",
              "      <td>66000.0</td>\n",
              "      <td>4</td>\n",
              "    </tr>\n",
              "    <tr>\n",
              "      <th>2</th>\n",
              "      <td>Vasu</td>\n",
              "      <td>70000</td>\n",
              "      <td>77000.0</td>\n",
              "      <td>5</td>\n",
              "    </tr>\n",
              "  </tbody>\n",
              "</table>\n",
              "</div>"
            ],
            "text/plain": [
              "     Name  Old_Salary  New_Salary  Experiance\n",
              "0    Naga       48000     52800.0           3\n",
              "1  Sreenu       60000     66000.0           4\n",
              "2    Vasu       70000     77000.0           5"
            ]
          },
          "metadata": {
            "tags": []
          },
          "execution_count": 53
        }
      ]
    },
    {
      "cell_type": "markdown",
      "metadata": {
        "id": "eueX9sOpGP1a"
      },
      "source": [
        "**Adding new column to df3**"
      ]
    },
    {
      "cell_type": "code",
      "metadata": {
        "colab": {
          "base_uri": "https://localhost:8080/",
          "height": 143
        },
        "id": "VGX3OyczGVRT",
        "outputId": "e7994a48-983f-48e0-e9fd-1372fa777cf1"
      },
      "source": [
        "company = ['C1','C2','C3']\n",
        "df3['Company'] = pd.DataFrame({'Company':company})\n",
        "df3"
      ],
      "execution_count": 54,
      "outputs": [
        {
          "output_type": "execute_result",
          "data": {
            "text/html": [
              "<div>\n",
              "<style scoped>\n",
              "    .dataframe tbody tr th:only-of-type {\n",
              "        vertical-align: middle;\n",
              "    }\n",
              "\n",
              "    .dataframe tbody tr th {\n",
              "        vertical-align: top;\n",
              "    }\n",
              "\n",
              "    .dataframe thead th {\n",
              "        text-align: right;\n",
              "    }\n",
              "</style>\n",
              "<table border=\"1\" class=\"dataframe\">\n",
              "  <thead>\n",
              "    <tr style=\"text-align: right;\">\n",
              "      <th></th>\n",
              "      <th>Name</th>\n",
              "      <th>Old_Salary</th>\n",
              "      <th>New_Salary</th>\n",
              "      <th>Experiance</th>\n",
              "      <th>Company</th>\n",
              "    </tr>\n",
              "  </thead>\n",
              "  <tbody>\n",
              "    <tr>\n",
              "      <th>0</th>\n",
              "      <td>Naga</td>\n",
              "      <td>48000</td>\n",
              "      <td>52800.0</td>\n",
              "      <td>3</td>\n",
              "      <td>C1</td>\n",
              "    </tr>\n",
              "    <tr>\n",
              "      <th>1</th>\n",
              "      <td>Sreenu</td>\n",
              "      <td>60000</td>\n",
              "      <td>66000.0</td>\n",
              "      <td>4</td>\n",
              "      <td>C2</td>\n",
              "    </tr>\n",
              "    <tr>\n",
              "      <th>2</th>\n",
              "      <td>Vasu</td>\n",
              "      <td>70000</td>\n",
              "      <td>77000.0</td>\n",
              "      <td>5</td>\n",
              "      <td>C3</td>\n",
              "    </tr>\n",
              "  </tbody>\n",
              "</table>\n",
              "</div>"
            ],
            "text/plain": [
              "     Name  Old_Salary  New_Salary  Experiance Company\n",
              "0    Naga       48000     52800.0           3      C1\n",
              "1  Sreenu       60000     66000.0           4      C2\n",
              "2    Vasu       70000     77000.0           5      C3"
            ]
          },
          "metadata": {
            "tags": []
          },
          "execution_count": 54
        }
      ]
    },
    {
      "cell_type": "markdown",
      "metadata": {
        "id": "TT6gMisGG2Nq"
      },
      "source": [
        "**Checking df**"
      ]
    },
    {
      "cell_type": "code",
      "metadata": {
        "colab": {
          "base_uri": "https://localhost:8080/",
          "height": 143
        },
        "id": "9pg7e-q_G1Tn",
        "outputId": "118c66e2-fe86-4622-ea94-29f843845f4e"
      },
      "source": [
        "df"
      ],
      "execution_count": 55,
      "outputs": [
        {
          "output_type": "execute_result",
          "data": {
            "text/html": [
              "<div>\n",
              "<style scoped>\n",
              "    .dataframe tbody tr th:only-of-type {\n",
              "        vertical-align: middle;\n",
              "    }\n",
              "\n",
              "    .dataframe tbody tr th {\n",
              "        vertical-align: top;\n",
              "    }\n",
              "\n",
              "    .dataframe thead th {\n",
              "        text-align: right;\n",
              "    }\n",
              "</style>\n",
              "<table border=\"1\" class=\"dataframe\">\n",
              "  <thead>\n",
              "    <tr style=\"text-align: right;\">\n",
              "      <th></th>\n",
              "      <th>Name</th>\n",
              "      <th>Old_Salary</th>\n",
              "      <th>New_Salary</th>\n",
              "      <th>Experiance</th>\n",
              "    </tr>\n",
              "  </thead>\n",
              "  <tbody>\n",
              "    <tr>\n",
              "      <th>0</th>\n",
              "      <td>Naga</td>\n",
              "      <td>48000</td>\n",
              "      <td>52800.0</td>\n",
              "      <td>3</td>\n",
              "    </tr>\n",
              "    <tr>\n",
              "      <th>1</th>\n",
              "      <td>Sreenu</td>\n",
              "      <td>60000</td>\n",
              "      <td>66000.0</td>\n",
              "      <td>4</td>\n",
              "    </tr>\n",
              "    <tr>\n",
              "      <th>2</th>\n",
              "      <td>Vasu</td>\n",
              "      <td>70000</td>\n",
              "      <td>77000.0</td>\n",
              "      <td>5</td>\n",
              "    </tr>\n",
              "  </tbody>\n",
              "</table>\n",
              "</div>"
            ],
            "text/plain": [
              "     Name  Old_Salary  New_Salary  Experiance\n",
              "0    Naga       48000     52800.0           3\n",
              "1  Sreenu       60000     66000.0           4\n",
              "2    Vasu       70000     77000.0           5"
            ]
          },
          "metadata": {
            "tags": []
          },
          "execution_count": 55
        }
      ]
    },
    {
      "cell_type": "markdown",
      "metadata": {
        "id": "drh-2S3XG6JN"
      },
      "source": [
        "No changes in df because df3 is deep copy of df"
      ]
    },
    {
      "cell_type": "code",
      "metadata": {
        "id": "1PE8-dt2V3HD"
      },
      "source": [
        "del df['New_Salary']\n",
        "df.rename(columns={'Old_Salary':'Salary'}, inplace=True)\n",
        "del df['Experiance']"
      ],
      "execution_count": 56,
      "outputs": []
    },
    {
      "cell_type": "code",
      "metadata": {
        "colab": {
          "base_uri": "https://localhost:8080/",
          "height": 143
        },
        "id": "ydBD_xM1WSaQ",
        "outputId": "2050c318-534b-4cbc-99aa-794fb38b3168"
      },
      "source": [
        "df"
      ],
      "execution_count": 57,
      "outputs": [
        {
          "output_type": "execute_result",
          "data": {
            "text/html": [
              "<div>\n",
              "<style scoped>\n",
              "    .dataframe tbody tr th:only-of-type {\n",
              "        vertical-align: middle;\n",
              "    }\n",
              "\n",
              "    .dataframe tbody tr th {\n",
              "        vertical-align: top;\n",
              "    }\n",
              "\n",
              "    .dataframe thead th {\n",
              "        text-align: right;\n",
              "    }\n",
              "</style>\n",
              "<table border=\"1\" class=\"dataframe\">\n",
              "  <thead>\n",
              "    <tr style=\"text-align: right;\">\n",
              "      <th></th>\n",
              "      <th>Name</th>\n",
              "      <th>Salary</th>\n",
              "    </tr>\n",
              "  </thead>\n",
              "  <tbody>\n",
              "    <tr>\n",
              "      <th>0</th>\n",
              "      <td>Naga</td>\n",
              "      <td>48000</td>\n",
              "    </tr>\n",
              "    <tr>\n",
              "      <th>1</th>\n",
              "      <td>Sreenu</td>\n",
              "      <td>60000</td>\n",
              "    </tr>\n",
              "    <tr>\n",
              "      <th>2</th>\n",
              "      <td>Vasu</td>\n",
              "      <td>70000</td>\n",
              "    </tr>\n",
              "  </tbody>\n",
              "</table>\n",
              "</div>"
            ],
            "text/plain": [
              "     Name  Salary\n",
              "0    Naga   48000\n",
              "1  Sreenu   60000\n",
              "2    Vasu   70000"
            ]
          },
          "metadata": {
            "tags": []
          },
          "execution_count": 57
        }
      ]
    },
    {
      "cell_type": "markdown",
      "metadata": {
        "id": "jHRM5662HAyc"
      },
      "source": [
        "**Making new dataframe**"
      ]
    },
    {
      "cell_type": "code",
      "metadata": {
        "colab": {
          "base_uri": "https://localhost:8080/",
          "height": 143
        },
        "id": "aq31aKjHG_yl",
        "outputId": "53b01157-b8aa-4e2e-ba8d-23e824e011d4"
      },
      "source": [
        "name = ['Naga','Sreenu','Vasu']\n",
        "experiance = [4,5,6]\n",
        "df1 = pd.DataFrame({'Name':name, 'Experiance':experiance})\n",
        "df1.head()"
      ],
      "execution_count": 58,
      "outputs": [
        {
          "output_type": "execute_result",
          "data": {
            "text/html": [
              "<div>\n",
              "<style scoped>\n",
              "    .dataframe tbody tr th:only-of-type {\n",
              "        vertical-align: middle;\n",
              "    }\n",
              "\n",
              "    .dataframe tbody tr th {\n",
              "        vertical-align: top;\n",
              "    }\n",
              "\n",
              "    .dataframe thead th {\n",
              "        text-align: right;\n",
              "    }\n",
              "</style>\n",
              "<table border=\"1\" class=\"dataframe\">\n",
              "  <thead>\n",
              "    <tr style=\"text-align: right;\">\n",
              "      <th></th>\n",
              "      <th>Name</th>\n",
              "      <th>Experiance</th>\n",
              "    </tr>\n",
              "  </thead>\n",
              "  <tbody>\n",
              "    <tr>\n",
              "      <th>0</th>\n",
              "      <td>Naga</td>\n",
              "      <td>4</td>\n",
              "    </tr>\n",
              "    <tr>\n",
              "      <th>1</th>\n",
              "      <td>Sreenu</td>\n",
              "      <td>5</td>\n",
              "    </tr>\n",
              "    <tr>\n",
              "      <th>2</th>\n",
              "      <td>Vasu</td>\n",
              "      <td>6</td>\n",
              "    </tr>\n",
              "  </tbody>\n",
              "</table>\n",
              "</div>"
            ],
            "text/plain": [
              "     Name  Experiance\n",
              "0    Naga           4\n",
              "1  Sreenu           5\n",
              "2    Vasu           6"
            ]
          },
          "metadata": {
            "tags": []
          },
          "execution_count": 58
        }
      ]
    },
    {
      "cell_type": "markdown",
      "metadata": {
        "id": "nS7pSHXmLjQE"
      },
      "source": [
        "**Merging two dataframes with same number of elements**\n"
      ]
    },
    {
      "cell_type": "markdown",
      "metadata": {
        "id": "o69HxwjWVQTl"
      },
      "source": [
        "*Inner Join*\n",
        "\n",
        "\n",
        "![innerjoin.png](data:image/png;base64,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)"
      ]
    },
    {
      "cell_type": "code",
      "metadata": {
        "colab": {
          "base_uri": "https://localhost:8080/",
          "height": 143
        },
        "id": "4eTt5lrCMtM7",
        "outputId": "245c08dd-e57e-45c1-9532-fcf0f6f6ca35"
      },
      "source": [
        "pd.merge(df,df1, on = 'Name', how='inner')"
      ],
      "execution_count": 59,
      "outputs": [
        {
          "output_type": "execute_result",
          "data": {
            "text/html": [
              "<div>\n",
              "<style scoped>\n",
              "    .dataframe tbody tr th:only-of-type {\n",
              "        vertical-align: middle;\n",
              "    }\n",
              "\n",
              "    .dataframe tbody tr th {\n",
              "        vertical-align: top;\n",
              "    }\n",
              "\n",
              "    .dataframe thead th {\n",
              "        text-align: right;\n",
              "    }\n",
              "</style>\n",
              "<table border=\"1\" class=\"dataframe\">\n",
              "  <thead>\n",
              "    <tr style=\"text-align: right;\">\n",
              "      <th></th>\n",
              "      <th>Name</th>\n",
              "      <th>Salary</th>\n",
              "      <th>Experiance</th>\n",
              "    </tr>\n",
              "  </thead>\n",
              "  <tbody>\n",
              "    <tr>\n",
              "      <th>0</th>\n",
              "      <td>Naga</td>\n",
              "      <td>48000</td>\n",
              "      <td>4</td>\n",
              "    </tr>\n",
              "    <tr>\n",
              "      <th>1</th>\n",
              "      <td>Sreenu</td>\n",
              "      <td>60000</td>\n",
              "      <td>5</td>\n",
              "    </tr>\n",
              "    <tr>\n",
              "      <th>2</th>\n",
              "      <td>Vasu</td>\n",
              "      <td>70000</td>\n",
              "      <td>6</td>\n",
              "    </tr>\n",
              "  </tbody>\n",
              "</table>\n",
              "</div>"
            ],
            "text/plain": [
              "     Name  Salary  Experiance\n",
              "0    Naga   48000           4\n",
              "1  Sreenu   60000           5\n",
              "2    Vasu   70000           6"
            ]
          },
          "metadata": {
            "tags": []
          },
          "execution_count": 59
        }
      ]
    },
    {
      "cell_type": "markdown",
      "metadata": {
        "id": "XWtM_fA_WmwT"
      },
      "source": [
        "**Merging two Dataframe with different number of elements**"
      ]
    },
    {
      "cell_type": "code",
      "metadata": {
        "colab": {
          "base_uri": "https://localhost:8080/",
          "height": 112
        },
        "id": "SkTP0UW3WrpC",
        "outputId": "e9c87b26-3ecd-44c0-c274-6072b1549e1f"
      },
      "source": [
        "df4 = pd.DataFrame({'Name':['Naga','Sreenu'],'Experiance':[4,5]})\n",
        "pd.merge(df,df4, on='Name', how='inner')"
      ],
      "execution_count": 61,
      "outputs": [
        {
          "output_type": "execute_result",
          "data": {
            "text/html": [
              "<div>\n",
              "<style scoped>\n",
              "    .dataframe tbody tr th:only-of-type {\n",
              "        vertical-align: middle;\n",
              "    }\n",
              "\n",
              "    .dataframe tbody tr th {\n",
              "        vertical-align: top;\n",
              "    }\n",
              "\n",
              "    .dataframe thead th {\n",
              "        text-align: right;\n",
              "    }\n",
              "</style>\n",
              "<table border=\"1\" class=\"dataframe\">\n",
              "  <thead>\n",
              "    <tr style=\"text-align: right;\">\n",
              "      <th></th>\n",
              "      <th>Name</th>\n",
              "      <th>Salary</th>\n",
              "      <th>Experiance</th>\n",
              "    </tr>\n",
              "  </thead>\n",
              "  <tbody>\n",
              "    <tr>\n",
              "      <th>0</th>\n",
              "      <td>Naga</td>\n",
              "      <td>48000</td>\n",
              "      <td>4</td>\n",
              "    </tr>\n",
              "    <tr>\n",
              "      <th>1</th>\n",
              "      <td>Sreenu</td>\n",
              "      <td>60000</td>\n",
              "      <td>5</td>\n",
              "    </tr>\n",
              "  </tbody>\n",
              "</table>\n",
              "</div>"
            ],
            "text/plain": [
              "     Name  Salary  Experiance\n",
              "0    Naga   48000           4\n",
              "1  Sreenu   60000           5"
            ]
          },
          "metadata": {
            "tags": []
          },
          "execution_count": 61
        }
      ]
    },
    {
      "cell_type": "markdown",
      "metadata": {
        "id": "z0JiBsqVZRtf"
      },
      "source": [
        "*Outer join*"
      ]
    },
    {
      "cell_type": "code",
      "metadata": {
        "colab": {
          "base_uri": "https://localhost:8080/",
          "height": 143
        },
        "id": "PqyYVoJVZQli",
        "outputId": "a6006d8a-b657-4fa0-fe67-8d64cbc3cdb8"
      },
      "source": [
        "pd.merge(df,df4, on='Name', how='outer')"
      ],
      "execution_count": 62,
      "outputs": [
        {
          "output_type": "execute_result",
          "data": {
            "text/html": [
              "<div>\n",
              "<style scoped>\n",
              "    .dataframe tbody tr th:only-of-type {\n",
              "        vertical-align: middle;\n",
              "    }\n",
              "\n",
              "    .dataframe tbody tr th {\n",
              "        vertical-align: top;\n",
              "    }\n",
              "\n",
              "    .dataframe thead th {\n",
              "        text-align: right;\n",
              "    }\n",
              "</style>\n",
              "<table border=\"1\" class=\"dataframe\">\n",
              "  <thead>\n",
              "    <tr style=\"text-align: right;\">\n",
              "      <th></th>\n",
              "      <th>Name</th>\n",
              "      <th>Salary</th>\n",
              "      <th>Experiance</th>\n",
              "    </tr>\n",
              "  </thead>\n",
              "  <tbody>\n",
              "    <tr>\n",
              "      <th>0</th>\n",
              "      <td>Naga</td>\n",
              "      <td>48000</td>\n",
              "      <td>4.0</td>\n",
              "    </tr>\n",
              "    <tr>\n",
              "      <th>1</th>\n",
              "      <td>Sreenu</td>\n",
              "      <td>60000</td>\n",
              "      <td>5.0</td>\n",
              "    </tr>\n",
              "    <tr>\n",
              "      <th>2</th>\n",
              "      <td>Vasu</td>\n",
              "      <td>70000</td>\n",
              "      <td>NaN</td>\n",
              "    </tr>\n",
              "  </tbody>\n",
              "</table>\n",
              "</div>"
            ],
            "text/plain": [
              "     Name  Salary  Experiance\n",
              "0    Naga   48000         4.0\n",
              "1  Sreenu   60000         5.0\n",
              "2    Vasu   70000         NaN"
            ]
          },
          "metadata": {
            "tags": []
          },
          "execution_count": 62
        }
      ]
    },
    {
      "cell_type": "markdown",
      "metadata": {
        "id": "MOtUbPY-Za8T"
      },
      "source": [
        "Show all values if the element is not present in dataframe then it will be filled with NaN"
      ]
    },
    {
      "cell_type": "markdown",
      "metadata": {
        "id": "mT-ReTKdZsMF"
      },
      "source": [
        "*Left outer join*"
      ]
    },
    {
      "cell_type": "code",
      "metadata": {
        "colab": {
          "base_uri": "https://localhost:8080/",
          "height": 143
        },
        "id": "65NzodgkZ5kG",
        "outputId": "77ba5772-66fc-4c15-bfee-dd5d98952c0a"
      },
      "source": [
        "df4 = pd.DataFrame({'Name':['Naga','Sreenu','Krish'],'Experiance':[4,5,7]})\n",
        "df4"
      ],
      "execution_count": 64,
      "outputs": [
        {
          "output_type": "execute_result",
          "data": {
            "text/html": [
              "<div>\n",
              "<style scoped>\n",
              "    .dataframe tbody tr th:only-of-type {\n",
              "        vertical-align: middle;\n",
              "    }\n",
              "\n",
              "    .dataframe tbody tr th {\n",
              "        vertical-align: top;\n",
              "    }\n",
              "\n",
              "    .dataframe thead th {\n",
              "        text-align: right;\n",
              "    }\n",
              "</style>\n",
              "<table border=\"1\" class=\"dataframe\">\n",
              "  <thead>\n",
              "    <tr style=\"text-align: right;\">\n",
              "      <th></th>\n",
              "      <th>Name</th>\n",
              "      <th>Experiance</th>\n",
              "    </tr>\n",
              "  </thead>\n",
              "  <tbody>\n",
              "    <tr>\n",
              "      <th>0</th>\n",
              "      <td>Naga</td>\n",
              "      <td>4</td>\n",
              "    </tr>\n",
              "    <tr>\n",
              "      <th>1</th>\n",
              "      <td>Sreenu</td>\n",
              "      <td>5</td>\n",
              "    </tr>\n",
              "    <tr>\n",
              "      <th>2</th>\n",
              "      <td>Krish</td>\n",
              "      <td>7</td>\n",
              "    </tr>\n",
              "  </tbody>\n",
              "</table>\n",
              "</div>"
            ],
            "text/plain": [
              "     Name  Experiance\n",
              "0    Naga           4\n",
              "1  Sreenu           5\n",
              "2   Krish           7"
            ]
          },
          "metadata": {
            "tags": []
          },
          "execution_count": 64
        }
      ]
    },
    {
      "cell_type": "code",
      "metadata": {
        "colab": {
          "base_uri": "https://localhost:8080/",
          "height": 143
        },
        "id": "AFIGh_saZwOJ",
        "outputId": "3d031fe9-8de2-42a3-87d4-734049d4fd19"
      },
      "source": [
        "pd.merge(df,df4, on='Name', how='left')"
      ],
      "execution_count": 65,
      "outputs": [
        {
          "output_type": "execute_result",
          "data": {
            "text/html": [
              "<div>\n",
              "<style scoped>\n",
              "    .dataframe tbody tr th:only-of-type {\n",
              "        vertical-align: middle;\n",
              "    }\n",
              "\n",
              "    .dataframe tbody tr th {\n",
              "        vertical-align: top;\n",
              "    }\n",
              "\n",
              "    .dataframe thead th {\n",
              "        text-align: right;\n",
              "    }\n",
              "</style>\n",
              "<table border=\"1\" class=\"dataframe\">\n",
              "  <thead>\n",
              "    <tr style=\"text-align: right;\">\n",
              "      <th></th>\n",
              "      <th>Name</th>\n",
              "      <th>Salary</th>\n",
              "      <th>Experiance</th>\n",
              "    </tr>\n",
              "  </thead>\n",
              "  <tbody>\n",
              "    <tr>\n",
              "      <th>0</th>\n",
              "      <td>Naga</td>\n",
              "      <td>48000</td>\n",
              "      <td>4.0</td>\n",
              "    </tr>\n",
              "    <tr>\n",
              "      <th>1</th>\n",
              "      <td>Sreenu</td>\n",
              "      <td>60000</td>\n",
              "      <td>5.0</td>\n",
              "    </tr>\n",
              "    <tr>\n",
              "      <th>2</th>\n",
              "      <td>Vasu</td>\n",
              "      <td>70000</td>\n",
              "      <td>NaN</td>\n",
              "    </tr>\n",
              "  </tbody>\n",
              "</table>\n",
              "</div>"
            ],
            "text/plain": [
              "     Name  Salary  Experiance\n",
              "0    Naga   48000         4.0\n",
              "1  Sreenu   60000         5.0\n",
              "2    Vasu   70000         NaN"
            ]
          },
          "metadata": {
            "tags": []
          },
          "execution_count": 65
        }
      ]
    },
    {
      "cell_type": "markdown",
      "metadata": {
        "id": "JCJHrI0BaD_K"
      },
      "source": [
        "*Right outer join*"
      ]
    },
    {
      "cell_type": "code",
      "metadata": {
        "colab": {
          "base_uri": "https://localhost:8080/",
          "height": 143
        },
        "id": "FjmvN3ZvaDPW",
        "outputId": "cc9cd360-2660-4fbc-d63f-4b82d69b2036"
      },
      "source": [
        "pd.merge(df,df4, on='Name', how='right')"
      ],
      "execution_count": 66,
      "outputs": [
        {
          "output_type": "execute_result",
          "data": {
            "text/html": [
              "<div>\n",
              "<style scoped>\n",
              "    .dataframe tbody tr th:only-of-type {\n",
              "        vertical-align: middle;\n",
              "    }\n",
              "\n",
              "    .dataframe tbody tr th {\n",
              "        vertical-align: top;\n",
              "    }\n",
              "\n",
              "    .dataframe thead th {\n",
              "        text-align: right;\n",
              "    }\n",
              "</style>\n",
              "<table border=\"1\" class=\"dataframe\">\n",
              "  <thead>\n",
              "    <tr style=\"text-align: right;\">\n",
              "      <th></th>\n",
              "      <th>Name</th>\n",
              "      <th>Salary</th>\n",
              "      <th>Experiance</th>\n",
              "    </tr>\n",
              "  </thead>\n",
              "  <tbody>\n",
              "    <tr>\n",
              "      <th>0</th>\n",
              "      <td>Naga</td>\n",
              "      <td>48000.0</td>\n",
              "      <td>4</td>\n",
              "    </tr>\n",
              "    <tr>\n",
              "      <th>1</th>\n",
              "      <td>Sreenu</td>\n",
              "      <td>60000.0</td>\n",
              "      <td>5</td>\n",
              "    </tr>\n",
              "    <tr>\n",
              "      <th>2</th>\n",
              "      <td>Krish</td>\n",
              "      <td>NaN</td>\n",
              "      <td>7</td>\n",
              "    </tr>\n",
              "  </tbody>\n",
              "</table>\n",
              "</div>"
            ],
            "text/plain": [
              "     Name   Salary  Experiance\n",
              "0    Naga  48000.0           4\n",
              "1  Sreenu  60000.0           5\n",
              "2   Krish      NaN           7"
            ]
          },
          "metadata": {
            "tags": []
          },
          "execution_count": 66
        }
      ]
    },
    {
      "cell_type": "markdown",
      "metadata": {
        "id": "oZQVT3LBaUuZ"
      },
      "source": [
        "**Concatenate**"
      ]
    },
    {
      "cell_type": "code",
      "metadata": {
        "colab": {
          "base_uri": "https://localhost:8080/",
          "height": 237
        },
        "id": "kPrresVwaXdw",
        "outputId": "f89a35f8-9d33-4dbb-bb4f-679bf6a0bc25"
      },
      "source": [
        "frame = [df, df4]\n",
        "pd.concat(frame)"
      ],
      "execution_count": 67,
      "outputs": [
        {
          "output_type": "execute_result",
          "data": {
            "text/html": [
              "<div>\n",
              "<style scoped>\n",
              "    .dataframe tbody tr th:only-of-type {\n",
              "        vertical-align: middle;\n",
              "    }\n",
              "\n",
              "    .dataframe tbody tr th {\n",
              "        vertical-align: top;\n",
              "    }\n",
              "\n",
              "    .dataframe thead th {\n",
              "        text-align: right;\n",
              "    }\n",
              "</style>\n",
              "<table border=\"1\" class=\"dataframe\">\n",
              "  <thead>\n",
              "    <tr style=\"text-align: right;\">\n",
              "      <th></th>\n",
              "      <th>Name</th>\n",
              "      <th>Salary</th>\n",
              "      <th>Experiance</th>\n",
              "    </tr>\n",
              "  </thead>\n",
              "  <tbody>\n",
              "    <tr>\n",
              "      <th>0</th>\n",
              "      <td>Naga</td>\n",
              "      <td>48000.0</td>\n",
              "      <td>NaN</td>\n",
              "    </tr>\n",
              "    <tr>\n",
              "      <th>1</th>\n",
              "      <td>Sreenu</td>\n",
              "      <td>60000.0</td>\n",
              "      <td>NaN</td>\n",
              "    </tr>\n",
              "    <tr>\n",
              "      <th>2</th>\n",
              "      <td>Vasu</td>\n",
              "      <td>70000.0</td>\n",
              "      <td>NaN</td>\n",
              "    </tr>\n",
              "    <tr>\n",
              "      <th>0</th>\n",
              "      <td>Naga</td>\n",
              "      <td>NaN</td>\n",
              "      <td>4.0</td>\n",
              "    </tr>\n",
              "    <tr>\n",
              "      <th>1</th>\n",
              "      <td>Sreenu</td>\n",
              "      <td>NaN</td>\n",
              "      <td>5.0</td>\n",
              "    </tr>\n",
              "    <tr>\n",
              "      <th>2</th>\n",
              "      <td>Krish</td>\n",
              "      <td>NaN</td>\n",
              "      <td>7.0</td>\n",
              "    </tr>\n",
              "  </tbody>\n",
              "</table>\n",
              "</div>"
            ],
            "text/plain": [
              "     Name   Salary  Experiance\n",
              "0    Naga  48000.0         NaN\n",
              "1  Sreenu  60000.0         NaN\n",
              "2    Vasu  70000.0         NaN\n",
              "0    Naga      NaN         4.0\n",
              "1  Sreenu      NaN         5.0\n",
              "2   Krish      NaN         7.0"
            ]
          },
          "metadata": {
            "tags": []
          },
          "execution_count": 67
        }
      ]
    },
    {
      "cell_type": "markdown",
      "metadata": {
        "id": "p7o7gOS1anST"
      },
      "source": [
        "**Append**"
      ]
    },
    {
      "cell_type": "code",
      "metadata": {
        "colab": {
          "base_uri": "https://localhost:8080/",
          "height": 237
        },
        "id": "fsu2fDnuapoK",
        "outputId": "b4f3b6b5-8535-499a-ba60-71be7f4abd21"
      },
      "source": [
        "df.append(df4)"
      ],
      "execution_count": 68,
      "outputs": [
        {
          "output_type": "execute_result",
          "data": {
            "text/html": [
              "<div>\n",
              "<style scoped>\n",
              "    .dataframe tbody tr th:only-of-type {\n",
              "        vertical-align: middle;\n",
              "    }\n",
              "\n",
              "    .dataframe tbody tr th {\n",
              "        vertical-align: top;\n",
              "    }\n",
              "\n",
              "    .dataframe thead th {\n",
              "        text-align: right;\n",
              "    }\n",
              "</style>\n",
              "<table border=\"1\" class=\"dataframe\">\n",
              "  <thead>\n",
              "    <tr style=\"text-align: right;\">\n",
              "      <th></th>\n",
              "      <th>Name</th>\n",
              "      <th>Salary</th>\n",
              "      <th>Experiance</th>\n",
              "    </tr>\n",
              "  </thead>\n",
              "  <tbody>\n",
              "    <tr>\n",
              "      <th>0</th>\n",
              "      <td>Naga</td>\n",
              "      <td>48000.0</td>\n",
              "      <td>NaN</td>\n",
              "    </tr>\n",
              "    <tr>\n",
              "      <th>1</th>\n",
              "      <td>Sreenu</td>\n",
              "      <td>60000.0</td>\n",
              "      <td>NaN</td>\n",
              "    </tr>\n",
              "    <tr>\n",
              "      <th>2</th>\n",
              "      <td>Vasu</td>\n",
              "      <td>70000.0</td>\n",
              "      <td>NaN</td>\n",
              "    </tr>\n",
              "    <tr>\n",
              "      <th>0</th>\n",
              "      <td>Naga</td>\n",
              "      <td>NaN</td>\n",
              "      <td>4.0</td>\n",
              "    </tr>\n",
              "    <tr>\n",
              "      <th>1</th>\n",
              "      <td>Sreenu</td>\n",
              "      <td>NaN</td>\n",
              "      <td>5.0</td>\n",
              "    </tr>\n",
              "    <tr>\n",
              "      <th>2</th>\n",
              "      <td>Krish</td>\n",
              "      <td>NaN</td>\n",
              "      <td>7.0</td>\n",
              "    </tr>\n",
              "  </tbody>\n",
              "</table>\n",
              "</div>"
            ],
            "text/plain": [
              "     Name   Salary  Experiance\n",
              "0    Naga  48000.0         NaN\n",
              "1  Sreenu  60000.0         NaN\n",
              "2    Vasu  70000.0         NaN\n",
              "0    Naga      NaN         4.0\n",
              "1  Sreenu      NaN         5.0\n",
              "2   Krish      NaN         7.0"
            ]
          },
          "metadata": {
            "tags": []
          },
          "execution_count": 68
        }
      ]
    },
    {
      "cell_type": "markdown",
      "metadata": {
        "id": "G5C4IeyTcQ87"
      },
      "source": [
        "**Dataframe description**"
      ]
    },
    {
      "cell_type": "code",
      "metadata": {
        "colab": {
          "base_uri": "https://localhost:8080/",
          "height": 300
        },
        "id": "jQm0RCo-cUQS",
        "outputId": "4defe35d-6a48-4519-9bc7-74bdb79b9dcd"
      },
      "source": [
        "df.describe()"
      ],
      "execution_count": 70,
      "outputs": [
        {
          "output_type": "execute_result",
          "data": {
            "text/html": [
              "<div>\n",
              "<style scoped>\n",
              "    .dataframe tbody tr th:only-of-type {\n",
              "        vertical-align: middle;\n",
              "    }\n",
              "\n",
              "    .dataframe tbody tr th {\n",
              "        vertical-align: top;\n",
              "    }\n",
              "\n",
              "    .dataframe thead th {\n",
              "        text-align: right;\n",
              "    }\n",
              "</style>\n",
              "<table border=\"1\" class=\"dataframe\">\n",
              "  <thead>\n",
              "    <tr style=\"text-align: right;\">\n",
              "      <th></th>\n",
              "      <th>Salary</th>\n",
              "    </tr>\n",
              "  </thead>\n",
              "  <tbody>\n",
              "    <tr>\n",
              "      <th>count</th>\n",
              "      <td>3.000000</td>\n",
              "    </tr>\n",
              "    <tr>\n",
              "      <th>mean</th>\n",
              "      <td>59333.333333</td>\n",
              "    </tr>\n",
              "    <tr>\n",
              "      <th>std</th>\n",
              "      <td>11015.141095</td>\n",
              "    </tr>\n",
              "    <tr>\n",
              "      <th>min</th>\n",
              "      <td>48000.000000</td>\n",
              "    </tr>\n",
              "    <tr>\n",
              "      <th>25%</th>\n",
              "      <td>54000.000000</td>\n",
              "    </tr>\n",
              "    <tr>\n",
              "      <th>50%</th>\n",
              "      <td>60000.000000</td>\n",
              "    </tr>\n",
              "    <tr>\n",
              "      <th>75%</th>\n",
              "      <td>65000.000000</td>\n",
              "    </tr>\n",
              "    <tr>\n",
              "      <th>max</th>\n",
              "      <td>70000.000000</td>\n",
              "    </tr>\n",
              "  </tbody>\n",
              "</table>\n",
              "</div>"
            ],
            "text/plain": [
              "             Salary\n",
              "count      3.000000\n",
              "mean   59333.333333\n",
              "std    11015.141095\n",
              "min    48000.000000\n",
              "25%    54000.000000\n",
              "50%    60000.000000\n",
              "75%    65000.000000\n",
              "max    70000.000000"
            ]
          },
          "metadata": {
            "tags": []
          },
          "execution_count": 70
        }
      ]
    },
    {
      "cell_type": "code",
      "metadata": {
        "colab": {
          "base_uri": "https://localhost:8080/",
          "height": 317
        },
        "id": "IaKR1fjHcWnl",
        "outputId": "741c958f-e163-4f64-99cc-cfca0f2e27d0"
      },
      "source": [
        "df.hist()"
      ],
      "execution_count": 71,
      "outputs": [
        {
          "output_type": "execute_result",
          "data": {
            "text/plain": [
              "array([[<matplotlib.axes._subplots.AxesSubplot object at 0x7f98701c2710>]],\n",
              "      dtype=object)"
            ]
          },
          "metadata": {
            "tags": []
          },
          "execution_count": 71
        },
        {
          "output_type": "display_data",
          "data": {
            "image/png": "[encoded data removed]",
            "text/plain": [
              "<Figure size 432x288 with 1 Axes>"
            ]
          },
          "metadata": {
            "tags": [],
            "needs_background": "light"
          }
        }
      ]
    },
    {
      "cell_type": "markdown",
      "metadata": {
        "id": "RDP1AscY_ST_"
      },
      "source": [
        "**Sentence to words, and length dataframe**"
      ]
    },
    {
      "cell_type": "code",
      "metadata": {
        "colab": {
          "base_uri": "https://localhost:8080/",
          "height": 677
        },
        "id": "Ulkj5uYL-VSM",
        "outputId": "961daeff-d4bb-436f-b4e1-f6f17b69749e"
      },
      "source": [
        "#Sentence\n",
        "text = 'My name is naga sreenivasulu. I am a Data Scientist. I have experiance in Python, and Machine learning models implementation.'\n",
        "words = []\n",
        "word_length = []\n",
        "word_tokenization= text.split();\n",
        "for i in word_tokenization:\n",
        "  words.append(i)\n",
        "  word_length.append(len(i))\n",
        "df_word_length = pd.DataFrame({'Word':words, 'Length':word_length})\n",
        "df_word_length"
      ],
      "execution_count": 8,
      "outputs": [
        {
          "output_type": "execute_result",
          "data": {
            "text/html": [
              "<div>\n",
              "<style scoped>\n",
              "    .dataframe tbody tr th:only-of-type {\n",
              "        vertical-align: middle;\n",
              "    }\n",
              "\n",
              "    .dataframe tbody tr th {\n",
              "        vertical-align: top;\n",
              "    }\n",
              "\n",
              "    .dataframe thead th {\n",
              "        text-align: right;\n",
              "    }\n",
              "</style>\n",
              "<table border=\"1\" class=\"dataframe\">\n",
              "  <thead>\n",
              "    <tr style=\"text-align: right;\">\n",
              "      <th></th>\n",
              "      <th>Word</th>\n",
              "      <th>Length</th>\n",
              "    </tr>\n",
              "  </thead>\n",
              "  <tbody>\n",
              "    <tr>\n",
              "      <th>0</th>\n",
              "      <td>My</td>\n",
              "      <td>2</td>\n",
              "    </tr>\n",
              "    <tr>\n",
              "      <th>1</th>\n",
              "      <td>name</td>\n",
              "      <td>4</td>\n",
              "    </tr>\n",
              "    <tr>\n",
              "      <th>2</th>\n",
              "      <td>is</td>\n",
              "      <td>2</td>\n",
              "    </tr>\n",
              "    <tr>\n",
              "      <th>3</th>\n",
              "      <td>naga</td>\n",
              "      <td>4</td>\n",
              "    </tr>\n",
              "    <tr>\n",
              "      <th>4</th>\n",
              "      <td>sreenivasulu.</td>\n",
              "      <td>13</td>\n",
              "    </tr>\n",
              "    <tr>\n",
              "      <th>5</th>\n",
              "      <td>I</td>\n",
              "      <td>1</td>\n",
              "    </tr>\n",
              "    <tr>\n",
              "      <th>6</th>\n",
              "      <td>am</td>\n",
              "      <td>2</td>\n",
              "    </tr>\n",
              "    <tr>\n",
              "      <th>7</th>\n",
              "      <td>a</td>\n",
              "      <td>1</td>\n",
              "    </tr>\n",
              "    <tr>\n",
              "      <th>8</th>\n",
              "      <td>Data</td>\n",
              "      <td>4</td>\n",
              "    </tr>\n",
              "    <tr>\n",
              "      <th>9</th>\n",
              "      <td>Scientist.</td>\n",
              "      <td>10</td>\n",
              "    </tr>\n",
              "    <tr>\n",
              "      <th>10</th>\n",
              "      <td>I</td>\n",
              "      <td>1</td>\n",
              "    </tr>\n",
              "    <tr>\n",
              "      <th>11</th>\n",
              "      <td>have</td>\n",
              "      <td>4</td>\n",
              "    </tr>\n",
              "    <tr>\n",
              "      <th>12</th>\n",
              "      <td>experiance</td>\n",
              "      <td>10</td>\n",
              "    </tr>\n",
              "    <tr>\n",
              "      <th>13</th>\n",
              "      <td>in</td>\n",
              "      <td>2</td>\n",
              "    </tr>\n",
              "    <tr>\n",
              "      <th>14</th>\n",
              "      <td>Python,</td>\n",
              "      <td>7</td>\n",
              "    </tr>\n",
              "    <tr>\n",
              "      <th>15</th>\n",
              "      <td>and</td>\n",
              "      <td>3</td>\n",
              "    </tr>\n",
              "    <tr>\n",
              "      <th>16</th>\n",
              "      <td>Machine</td>\n",
              "      <td>7</td>\n",
              "    </tr>\n",
              "    <tr>\n",
              "      <th>17</th>\n",
              "      <td>learning</td>\n",
              "      <td>8</td>\n",
              "    </tr>\n",
              "    <tr>\n",
              "      <th>18</th>\n",
              "      <td>models</td>\n",
              "      <td>6</td>\n",
              "    </tr>\n",
              "    <tr>\n",
              "      <th>19</th>\n",
              "      <td>implementation.</td>\n",
              "      <td>15</td>\n",
              "    </tr>\n",
              "  </tbody>\n",
              "</table>\n",
              "</div>"
            ],
            "text/plain": [
              "               Word  Length\n",
              "0                My       2\n",
              "1              name       4\n",
              "2                is       2\n",
              "3              naga       4\n",
              "4     sreenivasulu.      13\n",
              "5                 I       1\n",
              "6                am       2\n",
              "7                 a       1\n",
              "8              Data       4\n",
              "9        Scientist.      10\n",
              "10                I       1\n",
              "11             have       4\n",
              "12       experiance      10\n",
              "13               in       2\n",
              "14          Python,       7\n",
              "15              and       3\n",
              "16          Machine       7\n",
              "17         learning       8\n",
              "18           models       6\n",
              "19  implementation.      15"
            ]
          },
          "metadata": {
            "tags": []
          },
          "execution_count": 8
        }
      ]
    }
  ]
}